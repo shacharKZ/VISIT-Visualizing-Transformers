{
 "cells": [
  {
   "cell_type": "code",
   "execution_count": null,
   "metadata": {},
   "outputs": [],
   "source": [
    "from transformers import AutoTokenizer, AutoModelForCausalLM\n",
    "import torch\n",
    "import os\n",
    "import flow_graph"
   ]
  },
  {
   "cell_type": "code",
   "execution_count": null,
   "metadata": {},
   "outputs": [],
   "source": [
    "device = torch.device('cuda') if torch.cuda.is_available() else torch.device('cpu')\n",
    "print(f'Using device: {device} [cuda available? => {torch.cuda.is_available()}]')"
   ]
  },
  {
   "cell_type": "code",
   "execution_count": null,
   "metadata": {},
   "outputs": [],
   "source": [
    "# TODO pass the model and input text as arguments or rewrite the default values\n",
    "import argparse\n",
    "parser = argparse.ArgumentParser()\n",
    "parser.add_argument('--model_name', type=str, default='gpt2-medium')\n",
    "parser.add_argument('--model_revision', type=str, default='main')\n",
    "parser.add_argument('--line', type=str, default='The capital of Japan is the city of')\n",
    "parser.add_argument('--target_token', type=str, default='AUTO')\n",
    "parser.add_argument('--save_html', action='store_true', default=True)\n",
    "parser.add_argument('--graph_config_path', type=str, default='flow_graph_configs/flow_graph_config_basic.json')\n",
    "parser.add_argument('--layers_to_check', type=str, default='[14]')"
   ]
  },
  {
   "cell_type": "code",
   "execution_count": null,
   "metadata": {},
   "outputs": [],
   "source": [
    "args, unknown = parser.parse_known_args()\n",
    "print('unknown args:', unknown)\n",
    "print('args:', args)\n",
    "\n",
    "model_name = args.model_name\n",
    "line = args.line\n",
    "target_token = args.target_token"
   ]
  },
  {
   "cell_type": "code",
   "execution_count": null,
   "metadata": {},
   "outputs": [],
   "source": [
    "model = AutoModelForCausalLM.from_pretrained(model_name, revision=args.model_revision).to(device).requires_grad_(False).eval()\n",
    "tokenizer = AutoTokenizer.from_pretrained(model_name)\n",
    "try:\n",
    "    os.environ[\"TOKENIZERS_PARALLELISM\"] = \"true\"  # not blocking, just to prevent warnings messages and faster tokenization\n",
    "except:\n",
    "    pass"
   ]
  },
  {
   "cell_type": "code",
   "execution_count": null,
   "metadata": {},
   "outputs": [],
   "source": [
    "print(model)\n",
    "print(model.config)"
   ]
  },
  {
   "cell_type": "code",
   "execution_count": null,
   "metadata": {},
   "outputs": [],
   "source": [
    "flow_graph_obj = flow_graph.FlowGraph(model=model, \n",
    "                                      tokenizer=tokenizer,\n",
    "                                      config_path=args.graph_config_path,\n",
    "                                      device=device)\n",
    "\n",
    "model_answer, hs_collector = flow_graph_obj.infrence_model_and_collect_data_for_graph(line)\n",
    "print(f'model_answer: \"{model_answer}\"')\n",
    "\n",
    "if target_token == 'AUTO':\n",
    "    target_token = model_answer\n",
    "    print(f'target_token: \"{target_token}\" (set by AUTO option)')"
   ]
  },
  {
   "cell_type": "code",
   "execution_count": null,
   "metadata": {},
   "outputs": [],
   "source": [
    "layers_to_check = args.layers_to_check.replace('[', '').replace(']', '')\n",
    "layers_to_check = [int(layer) for layer in layers_to_check.split(',')]\n",
    "for layer_idx in layers_to_check:\n",
    "    graph_data = flow_graph_obj.gen_basic_graph(layers=[layer_idx],\n",
    "                                hs_collector=hs_collector,\n",
    "                                target_word=target_token, \n",
    "                                line=line, \n",
    "                                save_html=args.save_html)"
   ]
  },
  {
   "cell_type": "code",
   "execution_count": null,
   "metadata": {},
   "outputs": [],
   "source": [
    "# graph_data = flow_graph_obj.gen_basic_graph(layers=[10, 11],\n",
    "#                             hs_collector=hs_collector,\n",
    "#                             target_word=target_token, \n",
    "#                             line=line, \n",
    "#                             save_html=args.save_html)"
   ]
  },
  {
   "cell_type": "code",
   "execution_count": null,
   "metadata": {},
   "outputs": [],
   "source": [
    "# graph_data = flow_graph_obj.gen_basic_graph(layers=[20, 21],\n",
    "#                             hs_collector=hs_collector,\n",
    "#                             target_word=target_token, \n",
    "#                             line=line, \n",
    "#                             save_html=args.save_html)"
   ]
  }
 ],
 "metadata": {
  "kernelspec": {
   "display_name": "Python 3",
   "language": "python",
   "name": "python3"
  },
  "language_info": {
   "codemirror_mode": {
    "name": "ipython",
    "version": 3
   },
   "file_extension": ".py",
   "mimetype": "text/x-python",
   "name": "python",
   "nbconvert_exporter": "python",
   "pygments_lexer": "ipython3",
   "version": "3.10.4"
  },
  "orig_nbformat": 4
 },
 "nbformat": 4,
 "nbformat_minor": 2
}
